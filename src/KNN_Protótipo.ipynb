{
 "cells": [
  {
   "cell_type": "markdown",
   "metadata": {},
   "source": [
    "### Importaçōes importantes"
   ]
  },
  {
   "cell_type": "code",
   "execution_count": 73,
   "metadata": {},
   "outputs": [],
   "source": [
    "import pandas as pd\n",
    "import numpy as np"
   ]
  },
  {
   "cell_type": "markdown",
   "metadata": {},
   "source": [
    "### Implementando código do K-Nearest Neighbors"
   ]
  },
  {
   "cell_type": "code",
   "execution_count": 74,
   "metadata": {},
   "outputs": [
    {
     "data": {
      "text/html": [
       "<div>\n",
       "<style scoped>\n",
       "    .dataframe tbody tr th:only-of-type {\n",
       "        vertical-align: middle;\n",
       "    }\n",
       "\n",
       "    .dataframe tbody tr th {\n",
       "        vertical-align: top;\n",
       "    }\n",
       "\n",
       "    .dataframe thead th {\n",
       "        text-align: right;\n",
       "    }\n",
       "</style>\n",
       "<table border=\"1\" class=\"dataframe\">\n",
       "  <thead>\n",
       "    <tr style=\"text-align: right;\">\n",
       "      <th></th>\n",
       "      <th>values</th>\n",
       "      <th>labels</th>\n",
       "    </tr>\n",
       "  </thead>\n",
       "  <tbody>\n",
       "    <tr>\n",
       "      <th>0</th>\n",
       "      <td>3.9</td>\n",
       "      <td>1</td>\n",
       "    </tr>\n",
       "    <tr>\n",
       "      <th>1</th>\n",
       "      <td>2.6</td>\n",
       "      <td>2</td>\n",
       "    </tr>\n",
       "    <tr>\n",
       "      <th>2</th>\n",
       "      <td>3.7</td>\n",
       "      <td>1</td>\n",
       "    </tr>\n",
       "    <tr>\n",
       "      <th>3</th>\n",
       "      <td>8.9</td>\n",
       "      <td>2</td>\n",
       "    </tr>\n",
       "    <tr>\n",
       "      <th>4</th>\n",
       "      <td>10.5</td>\n",
       "      <td>1</td>\n",
       "    </tr>\n",
       "    <tr>\n",
       "      <th>5</th>\n",
       "      <td>11.6</td>\n",
       "      <td>2</td>\n",
       "    </tr>\n",
       "  </tbody>\n",
       "</table>\n",
       "</div>"
      ],
      "text/plain": [
       "   values  labels\n",
       "0     3.9       1\n",
       "1     2.6       2\n",
       "2     3.7       1\n",
       "3     8.9       2\n",
       "4    10.5       1\n",
       "5    11.6       2"
      ]
     },
     "execution_count": 74,
     "metadata": {},
     "output_type": "execute_result"
    }
   ],
   "source": [
    "data = [[3.9, 1], [2.6, 2], [3.7, 1], [8.9, 2], [10.5,1], [11.6,2]]\n",
    "data = pd.DataFrame(data, columns=['values', 'labels'])\n",
    "data"
   ]
  },
  {
   "cell_type": "code",
   "execution_count": 77,
   "metadata": {},
   "outputs": [],
   "source": [
    "def accuracy(y_test, predict): #predict -> resultado do modelo knn\n",
    "    size = len(y_test)\n",
    "    count_true = 0\n",
    "    for i in range(size):\n",
    "        if y_test[i] == predict[i]:\n",
    "            count_true =+ 1\n",
    "    return (count_true/size)*100\n",
    "\n",
    "def probability(structure, classe):\n",
    "    list_majoritary_distances = []\n",
    "    for i in range(len(structure)):\n",
    "        if classe == structure[i,1]:\n",
    "            list_majoritary_distances.append(structure[i,0])\n",
    "    return np.mean(list_majoritary_distances)\n",
    "            \n",
    "        \n",
    "def votation(list_classes):\n",
    "    classes_uniques = np.unique(list_classes)\n",
    "    new_list = []\n",
    "    for cl in classes_uniques:\n",
    "        new_list.append([list_classes.count(cl), cl])\n",
    "        \n",
    "    votation = max(new_list)\n",
    "    return votation[1]   #irar retornar a classe com maior repeticoes\n",
    "\n",
    "    #se k não for definido ele sempre será 1\n",
    "def KNeighborsClassifier(x_train, y_train, x_test, y_test, k = 1):\n",
    "    \n",
    "    # validando valor de k para não ocorrer erro de escolha\n",
    "    if (k % 2) == 0:\n",
    "        k= k - 1\n",
    "       \n",
    "    elif (k <=0 ):\n",
    "        print('Não é possivel excutar o algoritimo com valores zeros ou menores do zero')\n",
    "        print('O valor de k será setado para o valor 1')\n",
    "        k=1\n",
    "    \n",
    "    classes_labels =[]\n",
    "    classes_prob = []\n",
    "    for i in range(len(x_test)):\n",
    "       \n",
    "        list_distance_individual_instance = []\n",
    "        \n",
    "        for j in range(len(x_train)):\n",
    "            \n",
    "            #calc euclidean distance\n",
    "            euclidean_distance = np.sqrt(np.sum(np.power(x_test[i]- x_train[j], 2)))\n",
    "            list_distance_individual_instance.append([euclidean_distance, y_train[j]])\n",
    "        \n",
    "        #ordering distance values   \n",
    "        list_distance_individual_instance.sort()\n",
    "        \n",
    "        #defining k neighbors\n",
    "        k_neighbors = list_distance_individual_instance[0:k]\n",
    "        k_neighbors = np.array(k_neighbors)\n",
    "        print(\"Struture: \", k_neighbors)\n",
    "        k_neighbors_class = list(k_neighbors[:,1]) # posição 1 é a label\n",
    "      \n",
    "        #majoritaty votation\n",
    "        classe = votation(k_neighbors_class)\n",
    "        classes_labels.append(classe)\n",
    "        \n",
    "        #majoritary probability\n",
    "        prob = probability(k_neighbors, classe)\n",
    "        classes_prob.append(prob)\n",
    "        \n",
    "    return classes_labels, classes_prob"
   ]
  },
  {
   "cell_type": "code",
   "execution_count": 78,
   "metadata": {},
   "outputs": [
    {
     "name": "stdout",
     "output_type": "stream",
     "text": [
      "Struture:  [[1.6 2. ]\n",
      " [6.6 1. ]\n",
      " [6.8 1. ]]\n",
      "Struture:  [[2.7 2. ]\n",
      " [7.7 1. ]\n",
      " [7.9 1. ]]\n",
      "Preditos:  [1.0, 1.0]\n",
      "Probabilidade:  [6.699999999999999, 7.799999999999999]\n",
      "Real:  [1 2]\n",
      "Acuracia:  50.0\n"
     ]
    }
   ],
   "source": [
    "x_train = data['values'][0:4].values\n",
    "y_train = data['labels'][0:4].values\n",
    "x_test  = data['values'][4:].values\n",
    "y_test  = data['labels'][4:].values\n",
    "predict, prob = KNeighborsClassifier(x_train, y_train, x_test, y_test, 4)\n",
    "acc = accuracy(y_test, predict)\n",
    "print(\"Preditos: \", predict)\n",
    "print(\"Probabilidade: \", prob)\n",
    "print(\"Real: \", y_test)\n",
    "print(\"Acuracia: \", acc)"
   ]
  }
 ],
 "metadata": {
  "kernelspec": {
   "display_name": "Python 3",
   "language": "python",
   "name": "python3"
  },
  "language_info": {
   "codemirror_mode": {
    "name": "ipython",
    "version": 3
   },
   "file_extension": ".py",
   "mimetype": "text/x-python",
   "name": "python",
   "nbconvert_exporter": "python",
   "pygments_lexer": "ipython3",
   "version": "3.7.3"
  }
 },
 "nbformat": 4,
 "nbformat_minor": 2
}
