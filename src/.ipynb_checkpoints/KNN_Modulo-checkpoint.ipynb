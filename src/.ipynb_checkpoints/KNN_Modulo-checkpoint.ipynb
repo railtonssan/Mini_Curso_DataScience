{
 "cells": [
  {
   "cell_type": "markdown",
   "metadata": {},
   "source": [
    "### Importaçōes importantes"
   ]
  },
  {
   "cell_type": "code",
   "execution_count": 9,
   "metadata": {},
   "outputs": [],
   "source": [
    "import pandas as pd\n",
    "import numpy as np"
   ]
  },
  {
   "cell_type": "markdown",
   "metadata": {},
   "source": [
    "### Implementando código do K-Nearest Neighbors"
   ]
  },
  {
   "cell_type": "code",
   "execution_count": 75,
   "metadata": {},
   "outputs": [
    {
     "data": {
      "text/html": [
       "<div>\n",
       "<style scoped>\n",
       "    .dataframe tbody tr th:only-of-type {\n",
       "        vertical-align: middle;\n",
       "    }\n",
       "\n",
       "    .dataframe tbody tr th {\n",
       "        vertical-align: top;\n",
       "    }\n",
       "\n",
       "    .dataframe thead th {\n",
       "        text-align: right;\n",
       "    }\n",
       "</style>\n",
       "<table border=\"1\" class=\"dataframe\">\n",
       "  <thead>\n",
       "    <tr style=\"text-align: right;\">\n",
       "      <th></th>\n",
       "      <th>values</th>\n",
       "      <th>labels</th>\n",
       "    </tr>\n",
       "  </thead>\n",
       "  <tbody>\n",
       "    <tr>\n",
       "      <th>0</th>\n",
       "      <td>3.9</td>\n",
       "      <td>1</td>\n",
       "    </tr>\n",
       "    <tr>\n",
       "      <th>1</th>\n",
       "      <td>2.6</td>\n",
       "      <td>2</td>\n",
       "    </tr>\n",
       "    <tr>\n",
       "      <th>2</th>\n",
       "      <td>3.7</td>\n",
       "      <td>1</td>\n",
       "    </tr>\n",
       "    <tr>\n",
       "      <th>3</th>\n",
       "      <td>8.9</td>\n",
       "      <td>2</td>\n",
       "    </tr>\n",
       "    <tr>\n",
       "      <th>4</th>\n",
       "      <td>10.5</td>\n",
       "      <td>1</td>\n",
       "    </tr>\n",
       "    <tr>\n",
       "      <th>5</th>\n",
       "      <td>11.6</td>\n",
       "      <td>2</td>\n",
       "    </tr>\n",
       "  </tbody>\n",
       "</table>\n",
       "</div>"
      ],
      "text/plain": [
       "   values  labels\n",
       "0     3.9       1\n",
       "1     2.6       2\n",
       "2     3.7       1\n",
       "3     8.9       2\n",
       "4    10.5       1\n",
       "5    11.6       2"
      ]
     },
     "execution_count": 75,
     "metadata": {},
     "output_type": "execute_result"
    }
   ],
   "source": [
    "data = [[3.9, 1], [2.6, 2], [3.7, 1], [8.9, 2], [10.5,1], [11.6,2]]\n",
    "data = pd.DataFrame(data, columns=['values', 'labels'])\n",
    "data"
   ]
  },
  {
   "cell_type": "code",
   "execution_count": 28,
   "metadata": {},
   "outputs": [
    {
     "name": "stdout",
     "output_type": "stream",
     "text": [
      "[0.0, 1.0, 2.0, 1.0, 0.0, 1.0, 2.0, 1.0, 0.0]\n"
     ]
    }
   ],
   "source": [
    "# def training_knn(x,y):\n",
    "#     return x, y\n",
    "\n",
    "# def test(x):\n",
    "#     list_distance = []\n",
    "#     for i in range(len(x)):\n",
    "#         for j in range(len(x)):\n",
    "#              euclidean_distance =   np.sqrt(np.power(x[i] - x[j], 2))\n",
    "#              list_distance.append(euclidean_distance)\n",
    "#     return list_distance\n",
    "\n",
    "                                \n",
    "# x_train, y_train = data['values'][0:3], data['labels'][0:3]\n",
    "# result = test(x_train)\n",
    "# print(result)"
   ]
  },
  {
   "cell_type": "code",
   "execution_count": null,
   "metadata": {},
   "outputs": [],
   "source": []
  },
  {
   "cell_type": "code",
   "execution_count": 83,
   "metadata": {},
   "outputs": [],
   "source": [
    "def votation(list_classes):\n",
    "    classes_uniques = np.unique(list_classes)\n",
    "    new_list = []\n",
    "    for cl in classes_uniques:\n",
    "        new_list.append([list_classes.count(cl), cl])\n",
    "        \n",
    "    votation = max(new_list)\n",
    "    return votation[1]   #irar retornar a classe com maior repeticoes\n",
    "\n",
    "\n",
    "\n",
    "\n",
    "def KNeighborsClassifier(x_train, y_train, x_test, y_test, k):\n",
    "    \n",
    "    classes_labels =[]\n",
    "    for i in range(len(x_test)):\n",
    "       \n",
    "        \n",
    "        list_distance_individual_instance = []\n",
    "        \n",
    "        for j in range(len(x_train)):\n",
    "            \n",
    "            #calc euclidean distance\n",
    "            euclidean_distance = np.sqrt(np.power(x_test[i]- x_train[j], 2))\n",
    "            list_distance_individual_instance.append([euclidean_distance, y_train[j]])\n",
    "        \n",
    "        #ordering distance values   \n",
    "        list_distance_individual_instance.sort()\n",
    "        \n",
    "        \n",
    "        #defining k neighbors\n",
    "        k_neighbors = list_distance_individual_instance[0:k]\n",
    "        k_neighbors = np.array(k_neighbors)\n",
    "        k_neighbors = list(k_neighbors[:,1])\n",
    "        \n",
    "       \n",
    "        #majoritaty votation\n",
    "        classe = votation(k_neighbors)\n",
    "        \n",
    "        classes_labels.append(classe)\n",
    "    return classes_labels\n",
    "\n",
    "\n",
    "    "
   ]
  },
  {
   "cell_type": "code",
   "execution_count": 85,
   "metadata": {},
   "outputs": [
    {
     "name": "stdout",
     "output_type": "stream",
     "text": [
      "[[1.5999999999999996, 2], [6.6, 1], [6.8, 1]]\n",
      "[[2.6999999999999993, 2], [7.699999999999999, 1], [7.8999999999999995, 1]]\n"
     ]
    },
    {
     "data": {
      "text/plain": [
       "[1.0, 1.0]"
      ]
     },
     "execution_count": 85,
     "metadata": {},
     "output_type": "execute_result"
    }
   ],
   "source": [
    "x_train, y_train, x_test, y_test = data['values'][0:4].values, data['labels'][0:4], data['values'][4:].values, data['labels'][4:]\n",
    "labels = knn(x_train, y_train, x_test, y_test, 3)\n",
    "labels"
   ]
  }
 ],
 "metadata": {
  "kernelspec": {
   "display_name": "Python 3",
   "language": "python",
   "name": "python3"
  },
  "language_info": {
   "codemirror_mode": {
    "name": "ipython",
    "version": 3
   },
   "file_extension": ".py",
   "mimetype": "text/x-python",
   "name": "python",
   "nbconvert_exporter": "python",
   "pygments_lexer": "ipython3",
   "version": "3.7.3"
  }
 },
 "nbformat": 4,
 "nbformat_minor": 2
}
